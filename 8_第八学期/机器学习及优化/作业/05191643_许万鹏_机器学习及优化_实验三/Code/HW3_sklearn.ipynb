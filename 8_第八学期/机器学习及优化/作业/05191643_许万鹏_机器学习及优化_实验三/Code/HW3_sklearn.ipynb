{
 "cells": [
  {
   "cell_type": "code",
   "execution_count": 1,
   "metadata": {
    "ExecuteTime": {
     "start_time": "2023-04-29T23:54:27.697506Z",
     "end_time": "2023-04-29T23:54:45.736563Z"
    }
   },
   "outputs": [
    {
     "name": "stdout",
     "output_type": "stream",
     "text": [
      "词汇数量: 4923\n",
      "模型的准确度:  0.9890230515916575\n",
      "              precision    recall  f1-score   support\n",
      "\n",
      "           0       1.00      0.99      0.99      1527\n",
      "           1       0.94      1.00      0.97       295\n",
      "\n",
      "    accuracy                           0.99      1822\n",
      "   macro avg       0.97      0.99      0.98      1822\n",
      "weighted avg       0.99      0.99      0.99      1822\n",
      "\n"
     ]
    }
   ],
   "source": [
    "import numpy as np\n",
    "import pandas as pd\n",
    "from scipy.sparse import coo_matrix\n",
    "from sklearn.neural_network import MLPClassifier\n",
    "from sklearn.metrics import classification_report\n",
    "from sklearn.model_selection import train_test_split\n",
    "from sklearn.feature_extraction.text import CountVectorizer\n",
    "from sklearn.feature_extraction.text import TfidfTransformer\n",
    "\n",
    "# 加载黄果山好评数据集\n",
    "df = pd.read_csv('huangguo_mountain.csv', encoding='UTF-8')\n",
    "df = df.dropna()\n",
    "\n",
    "contents = df['content']\n",
    "labels = df['label']\n",
    "\n",
    "#将文本中的词语转换为词频矩阵 矩阵元素a[i][j]表示j词在i类文本下的词频\n",
    "vectorizer = CountVectorizer(min_df=5)\n",
    "\n",
    "#该类会统计每个词语的tf-idf权值\n",
    "transformer = TfidfTransformer()\n",
    "\n",
    "#第一个fit_transform是计算tf-idf 第二个fit_transform是将文本转为词频矩阵\n",
    "tfidf = transformer.fit_transform(vectorizer.fit_transform(contents))\n",
    "\n",
    "# 获取词袋模型中的所有词语  \n",
    "word = vectorizer.get_feature_names_out()\n",
    "print(\"词汇数量:\", len(word))\n",
    "\n",
    "#将tf-idf矩阵抽取出来，元素w[i][j]表示j词在i类文本中的tf-idf权重\n",
    "X = coo_matrix(tfidf, dtype=np.float32).toarray()           #稀疏矩阵 注意float\n",
    "\n",
    "# 随机划分训练集和测试集\n",
    "X_train, X_test, y_train, y_test = train_test_split(X, labels, test_size=0.3, random_state=1)\n",
    "\n",
    "# 创建MLP\n",
    "classifier = MLPClassifier()\n",
    "\n",
    "# 训练\n",
    "classifier.fit(X_train, y_train)\n",
    "\n",
    "print('模型的准确度: ', classifier.score(X_test, y_test))\n",
    "\n",
    "y_preds = classifier.predict(X_test)\n",
    "print(classification_report(y_test, y_preds))"
   ]
  }
 ],
 "metadata": {
  "kernelspec": {
   "display_name": "ml_old",
   "language": "python",
   "name": "python3"
  },
  "language_info": {
   "codemirror_mode": {
    "name": "ipython",
    "version": 3
   },
   "file_extension": ".py",
   "mimetype": "text/x-python",
   "name": "python",
   "nbconvert_exporter": "python",
   "pygments_lexer": "ipython3",
   "version": "3.9.16"
  },
  "orig_nbformat": 4
 },
 "nbformat": 4,
 "nbformat_minor": 2
}
