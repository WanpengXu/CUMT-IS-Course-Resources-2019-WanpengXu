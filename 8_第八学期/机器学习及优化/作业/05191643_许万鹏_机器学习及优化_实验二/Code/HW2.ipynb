{
 "cells": [
  {
   "cell_type": "code",
   "execution_count": 1,
   "metadata": {
    "ExecuteTime": {
     "start_time": "2023-04-30T00:51:38.658289Z",
     "end_time": "2023-04-30T00:51:40.304995Z"
    }
   },
   "outputs": [],
   "source": [
    "import torch\n",
    "import xutorch"
   ]
  },
  {
   "cell_type": "code",
   "execution_count": 2,
   "metadata": {
    "ExecuteTime": {
     "start_time": "2023-04-30T00:51:40.311948Z",
     "end_time": "2023-04-30T00:51:40.317986Z"
    }
   },
   "outputs": [],
   "source": [
    "args = {\n",
    "    'kernel_func': 'linear',\n",
    "    'c': 0.01,\n",
    "    'lr': 0.01,\n",
    "    'num_epochs': 1000,\n",
    "    'batch_size': 12,\n",
    "    'early_stop': 100,\n",
    "    'save_path': 'weights/hw2_model.pth'\n",
    "}"
   ]
  },
  {
   "cell_type": "code",
   "execution_count": 3,
   "metadata": {
    "ExecuteTime": {
     "start_time": "2023-04-30T00:51:40.321948Z",
     "end_time": "2023-04-30T00:51:43.324807Z"
    }
   },
   "outputs": [
    {
     "name": "stdout",
     "output_type": "stream",
     "text": [
      "Finished reading the train set of BreastCancer Dataset (444 samples found, each dim = 30)\n",
      "Finished reading the val set of BreastCancer Dataset (125 samples found, each dim = 30)\n"
     ]
    }
   ],
   "source": [
    "train_loader, train_dataset = xutorch.dataset.prep_dataloader(\n",
    "    dataset_name='BreastCancer',\n",
    "    download=True,\n",
    "    train=True,\n",
    "    batch_size=args['batch_size'],\n",
    "    test_ratio=0.25,\n",
    "    transform=True\n",
    ")\n",
    "val_loader, val_dataset = xutorch.dataset.prep_dataloader(\n",
    "    dataset_name='BreastCancer',\n",
    "    download=True,\n",
    "    train=False,\n",
    "    batch_size=args['batch_size'],\n",
    "    test_ratio=0.25,\n",
    "    transform=True\n",
    ")"
   ]
  },
  {
   "cell_type": "code",
   "execution_count": 4,
   "metadata": {
    "ExecuteTime": {
     "start_time": "2023-04-30T00:51:43.330808Z",
     "end_time": "2023-04-30T00:51:43.665171Z"
    }
   },
   "outputs": [],
   "source": [
    "xutorch.misc.set_seeds(42)\n",
    "\n",
    "device = xutorch.misc.get_device()\n",
    "\n",
    "model = xutorch.model.EmulatedSVM(kernel_func=args['kernel_func'], input_dim=train_dataset.dim, output_dim=1).to(device)\n",
    "\n",
    "# 创建一个Hinge损失函数\n",
    "criterion = xutorch.loss.Hinge(args['c'])\n",
    "\n",
    "optimizer = xutorch.optim.SimpleSGD(model.parameters(), lr=args['lr'])"
   ]
  },
  {
   "cell_type": "code",
   "execution_count": 5,
   "metadata": {
    "ExecuteTime": {
     "start_time": "2023-04-30T00:51:43.676177Z",
     "end_time": "2023-04-30T00:51:55.756748Z"
    }
   },
   "outputs": [
    {
     "name": "stdout",
     "output_type": "stream",
     "text": [
      "Saving model (epoch =    1, acc =  0.9040)\n",
      "Saving model (epoch =    2, acc =  0.9360)\n",
      "Saving model (epoch =    3, acc =  0.9440)\n",
      "Saving model (epoch =    4, acc =  0.9600)\n",
      "Saving model (epoch =    6, acc =  0.9680)\n",
      "[010/1000] Train Acc: 0.977477 Loss: 0.007894 | Val Acc: 0.968000 loss: 0.010868\n",
      "[020/1000] Train Acc: 0.981982 Loss: 0.006601 | Val Acc: 0.968000 loss: 0.009654\n",
      "[030/1000] Train Acc: 0.981982 Loss: 0.006119 | Val Acc: 0.968000 loss: 0.009449\n",
      "[040/1000] Train Acc: 0.984234 Loss: 0.005829 | Val Acc: 0.968000 loss: 0.009279\n",
      "[050/1000] Train Acc: 0.981982 Loss: 0.005613 | Val Acc: 0.968000 loss: 0.009149\n",
      "[060/1000] Train Acc: 0.981982 Loss: 0.005473 | Val Acc: 0.968000 loss: 0.008954\n",
      "Saving model (epoch =   64, acc =  0.9760)\n",
      "[070/1000] Train Acc: 0.981982 Loss: 0.005379 | Val Acc: 0.968000 loss: 0.008810\n",
      "[080/1000] Train Acc: 0.981982 Loss: 0.005323 | Val Acc: 0.968000 loss: 0.008780\n",
      "[090/1000] Train Acc: 0.979730 Loss: 0.005286 | Val Acc: 0.976000 loss: 0.008758\n",
      "[100/1000] Train Acc: 0.981982 Loss: 0.005231 | Val Acc: 0.976000 loss: 0.008752\n",
      "[110/1000] Train Acc: 0.981982 Loss: 0.005219 | Val Acc: 0.976000 loss: 0.008662\n",
      "[120/1000] Train Acc: 0.981982 Loss: 0.005172 | Val Acc: 0.976000 loss: 0.008685\n",
      "[130/1000] Train Acc: 0.981982 Loss: 0.005162 | Val Acc: 0.976000 loss: 0.008661\n",
      "[140/1000] Train Acc: 0.981982 Loss: 0.005139 | Val Acc: 0.976000 loss: 0.008613\n",
      "[150/1000] Train Acc: 0.981982 Loss: 0.005135 | Val Acc: 0.976000 loss: 0.008664\n",
      "[160/1000] Train Acc: 0.984234 Loss: 0.005107 | Val Acc: 0.976000 loss: 0.008670\n",
      "**EARLY STOP**\n"
     ]
    }
   ],
   "source": [
    "loss_record = {\n",
    "    'train': [], \n",
    "    'val': []\n",
    "}\n",
    "\n",
    "best_val_acc = 0.0\n",
    "best_val_acc_epoch = 0.0\n",
    "\n",
    "early_stop_cnt = 0\n",
    "\n",
    "for epoch in range(args['num_epochs']):\n",
    "    train_acc = 0.0\n",
    "    train_loss = 0.0\n",
    "\n",
    "    model.train()\n",
    "    for batch_idx, (inputs, labels) in enumerate(train_loader):\n",
    "        inputs, labels = inputs.to(device), labels.to(device)\n",
    "        \n",
    "        outputs = model(inputs)\n",
    "        train_pred = torch.sign(outputs)\n",
    "\n",
    "        weight = model.fc.weight.squeeze()\n",
    "        loss = criterion(outputs, labels, weight)\n",
    "\n",
    "        optimizer.zero_grad()\n",
    "        loss.backward()\n",
    "        optimizer.step()\n",
    "\n",
    "        train_acc += (train_pred.cpu() == labels.cpu()).sum().item()\n",
    "        train_loss += loss.item()\n",
    "    loss_record['train'].append(train_loss / len(train_dataset))\n",
    "\n",
    "    val_acc = 0.0\n",
    "    val_loss = 0.0\n",
    "\n",
    "    model.eval()\n",
    "    for batch_idx, (inputs, labels) in enumerate(val_loader):\n",
    "        inputs, labels = inputs.to(device), labels.to(device)\n",
    "        with torch.no_grad():\n",
    "            outputs = model(inputs)\n",
    "            val_pred = torch.sign(outputs)\n",
    "\n",
    "            weight = model.fc.weight.squeeze()\n",
    "            loss = criterion(outputs, labels, weight)\n",
    "        \n",
    "        val_acc += (val_pred.cpu() == labels.cpu()).sum().item()\n",
    "        val_loss += loss.item()\n",
    "    loss_record['val'].append(val_loss / len(val_dataset))\n",
    "\n",
    "    if epoch == 0 or val_acc > best_val_acc:\n",
    "        best_val_acc = val_acc\n",
    "        best_val_acc_epoch = epoch\n",
    "        print(f'Saving model (epoch = {epoch + 1 : 4d}, acc = {best_val_acc / len(val_dataset) : .4f})')\n",
    "        torch.save(model.state_dict(), args['save_path'])\n",
    "        early_stop_cnt = 0\n",
    "    else:\n",
    "        early_stop_cnt += 1\n",
    "    \n",
    "    if early_stop_cnt > args['early_stop']:\n",
    "        print('**EARLY STOP**')\n",
    "        break\n",
    "\n",
    "    if epoch % 10 == 9:\n",
    "        print('[{:03d}/{:03d}] Train Acc: {:3.6f} Loss: {:3.6f} | Val Acc: {:3.6f} loss: {:3.6f}'.format(\n",
    "            epoch + 1, args['num_epochs'], \n",
    "            train_acc / len(train_dataset), train_loss / len(train_dataset), \n",
    "            val_acc / len(val_dataset), val_loss / len(val_dataset)))"
   ]
  },
  {
   "cell_type": "code",
   "execution_count": 6,
   "metadata": {
    "ExecuteTime": {
     "start_time": "2023-04-30T00:51:55.759746Z",
     "end_time": "2023-04-30T00:51:55.814414Z"
    }
   },
   "outputs": [
    {
     "name": "stdout",
     "output_type": "stream",
     "text": [
      "fc.weight tensor([[ 0.2650,  0.2481,  0.1537,  0.3058,  0.1708, -0.1461,  0.2963,  0.3841,\n",
      "         -0.0040, -0.3619,  0.5232, -0.2604,  0.3518,  0.3636,  0.1659, -0.3340,\n",
      "          0.0677,  0.0669, -0.1391, -0.1785,  0.3508,  0.5606,  0.3077,  0.4505,\n",
      "          0.4458, -0.0076,  0.3460,  0.3579,  0.4218,  0.1251]],\n",
      "       device='cuda:0')\n",
      "fc.bias tensor([-0.1809], device='cuda:0')\n"
     ]
    },
    {
     "data": {
      "text/plain": "('Worst_Texture', 'Mean_Fractal_Dimension')"
     },
     "execution_count": 6,
     "metadata": {},
     "output_type": "execute_result"
    }
   ],
   "source": [
    "params = model.state_dict()\n",
    "\n",
    "for name, param in params.items():\n",
    "    print(name, param)\n",
    "\n",
    "# 对乳腺癌影响最显著的两个feature\n",
    "feature_names = [\"Mean_Radius\", \"Mean_Texture\", \"Mean_Perimeter\", \"Mean_Area\", \"Mean_Smoothness\", \"Mean_Compactness\", \"Mean_Concavity\", \"Mean_Concave_Points\", \"Mean_Symmetry\", \"Mean_Fractal_Dimension\", \"SE_Radius\", \"SE_Texture\", \"SE_Perimeter\", \"SE_Area\", \"SE_Smoothness\", \"SE_Compactness\", \"SE_Concavity\", \"SE_Concave_Points\", \"SE_Symmetry\", \"SE_Fractal_Dimension\", \"Worst_Radius\", \"Worst_Texture\", \"Worst_Perimeter\", \"Worst_Area\", \"Worst_Smoothness\", \"Worst_Compactness\", \"Worst_Concavity\", \"Worst_Concave_Points\", \"Worst_Symmetry\", \"Worst_Fractal_Dimension\"]\n",
    "feature_names[torch.max(model.fc.weight, 1)[1].item()], feature_names[torch.min(model.fc.weight, 1)[1].item()]"
   ]
  },
  {
   "cell_type": "code",
   "execution_count": 7,
   "outputs": [],
   "source": [
    "import os\n",
    "os.environ[\"KMP_DUPLICATE_LIB_OK\"]=\"TRUE\""
   ],
   "metadata": {
    "collapsed": false,
    "ExecuteTime": {
     "start_time": "2023-04-30T00:51:55.789790Z",
     "end_time": "2023-04-30T00:51:55.814923Z"
    }
   }
  },
  {
   "cell_type": "code",
   "execution_count": 8,
   "outputs": [
    {
     "data": {
      "text/plain": "<Figure size 600x400 with 1 Axes>",
      "image/png": "[encoded data removed]"
     },
     "metadata": {},
     "output_type": "display_data"
    }
   ],
   "source": [
    "xutorch.plot.plot_learning_curve(loss_record, title='breast cancer classifier', loss_name='Hinge', bottom=0.0, top=0.02, min_loss_x=best_val_acc_epoch, min_loss_y=loss_record['val'][best_val_acc_epoch])"
   ],
   "metadata": {
    "collapsed": false,
    "ExecuteTime": {
     "start_time": "2023-04-30T00:51:55.805302Z",
     "end_time": "2023-04-30T00:51:56.046173Z"
    }
   }
  },
  {
   "cell_type": "code",
   "execution_count": 8,
   "outputs": [],
   "source": [],
   "metadata": {
    "collapsed": false,
    "ExecuteTime": {
     "start_time": "2023-04-30T00:51:56.048177Z",
     "end_time": "2023-04-30T00:51:56.062426Z"
    }
   }
  }
 ],
 "metadata": {
  "kernelspec": {
   "display_name": "ml_old",
   "language": "python",
   "name": "python3"
  },
  "language_info": {
   "codemirror_mode": {
    "name": "ipython",
    "version": 3
   },
   "file_extension": ".py",
   "mimetype": "text/x-python",
   "name": "python",
   "nbconvert_exporter": "python",
   "pygments_lexer": "ipython3",
   "version": "3.9.16"
  },
  "orig_nbformat": 4
 },
 "nbformat": 4,
 "nbformat_minor": 2
}
