{
 "cells": [
  {
   "cell_type": "code",
   "execution_count": 17,
   "metadata": {
    "ExecuteTime": {
     "start_time": "2023-04-29T21:24:09.482874Z",
     "end_time": "2023-04-29T21:24:09.510873Z"
    }
   },
   "outputs": [
    {
     "name": "stdout",
     "output_type": "stream",
     "text": [
      "精确率Acc: 0.9766081871345029\n"
     ]
    }
   ],
   "source": [
    "from sklearn.svm import SVC\n",
    "from sklearn import datasets\n",
    "from sklearn.preprocessing import StandardScaler\n",
    "from sklearn.model_selection import train_test_split\n",
    "\n",
    "# 加载UCI乳腺癌数据集\n",
    "dataset = datasets.load_breast_cancer()\n",
    "\n",
    "# 随机划分训练集和测试集\n",
    "X_train, X_test, y_train, y_test = train_test_split(dataset.data, dataset.target, test_size=0.3, random_state=42)\n",
    "\n",
    "# 特征工程：标准化数据，让数据符合正态分布，加速模型训练\n",
    "transfer = StandardScaler()\n",
    "X_train = transfer.fit_transform(X_train)\n",
    "X_test = transfer.fit_transform(X_test)\n",
    "\n",
    "# 创建用于分类的SVM模型——SVC\n",
    "classifier = SVC(kernel='linear')\n",
    "# classifier = SVC(kernel='rbf')\n",
    "# classifier = SVC(kernel='poly')\n",
    "\n",
    "# 训练\n",
    "classifier.fit(X_train, y_train)\n",
    "\n",
    "# 计算精确率Acc，评估SVM模型预测性能\n",
    "score = classifier.score(X_test, y_test)\n",
    "print(\"精确率Acc:\", score)"
   ]
  },
  {
   "cell_type": "code",
   "execution_count": null,
   "outputs": [],
   "source": [
    "import numpy as np\n",
    "\n",
    "# 输出模型参数w和b\n",
    "print(\"模型权重w:\", classifier.coef_, sep='\\n')\n",
    "print(\"模型偏置b:\", classifier.intercept_, sep='\\n')\n",
    "feature_names = [\"Mean_Radius\", \"Mean_Texture\", \"Mean_Perimeter\", \"Mean_Area\", \"Mean_Smoothness\", \"Mean_Compactness\", \"Mean_Concavity\", \"Mean_Concave_Points\", \"Mean_Symmetry\", \"Mean_Fractal_Dimension\", \"SE_Radius\", \"SE_Texture\", \"SE_Perimeter\", \"SE_Area\", \"SE_Smoothness\", \"SE_Compactness\", \"SE_Concavity\", \"SE_Concave_Points\", \"SE_Symmetry\", \"SE_Fractal_Dimension\", \"Worst_Radius\", \"Worst_Texture\", \"Worst_Perimeter\", \"Worst_Area\", \"Worst_Smoothness\", \"Worst_Compactness\", \"Worst_Concavity\", \"Worst_Concave_Points\", \"Worst_Symmetry\", \"Worst_Fractal_Dimension\"]\n",
    "\n",
    "\n",
    "print(feature_names[np.argmax(classifier.coef_)], feature_names[np.argmin(classifier.coef_)])"
   ],
   "metadata": {
    "collapsed": false
   }
  }
 ],
 "metadata": {
  "kernelspec": {
   "display_name": "ml_old",
   "language": "python",
   "name": "python3"
  },
  "language_info": {
   "codemirror_mode": {
    "name": "ipython",
    "version": 3
   },
   "file_extension": ".py",
   "mimetype": "text/x-python",
   "name": "python",
   "nbconvert_exporter": "python",
   "pygments_lexer": "ipython3",
   "version": "3.9.16"
  },
  "orig_nbformat": 4
 },
 "nbformat": 4,
 "nbformat_minor": 2
}
